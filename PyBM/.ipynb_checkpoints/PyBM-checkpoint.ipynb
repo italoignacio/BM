{
 "cells": [
  {
   "cell_type": "markdown",
   "metadata": {},
   "source": [
    "# Biomatemáticas"
   ]
  },
  {
   "cell_type": "markdown",
   "metadata": {},
   "source": [
    "## Capítulo 5"
   ]
  },
  {
   "cell_type": "markdown",
   "metadata": {},
   "source": [
    "#### Función por tramos"
   ]
  },
  {
   "cell_type": "code",
   "execution_count": 1,
   "metadata": {},
   "outputs": [],
   "source": [
    "import numpy as np\n",
    "import matplotlib.pyplot as plt \n",
    "import math as mt"
   ]
  },
  {
   "cell_type": "code",
   "execution_count": null,
   "metadata": {},
   "outputs": [],
   "source": [
    "x = np.linspace(6, 60)\n",
    "y = np.piecewise(x, [x<12,12<=x], [lambda x: (6*x)/12.5 + 19.24, lambda x: (87*x)/25 -16.76])\n",
    "\n",
    "plt.figure(1)\n",
    "plt.plot(x, y)\n",
    "plt.grid()\n",
    "plt.xlim(6,60)\n",
    "plt.xlabel('Edad [Años]')\n",
    "plt.ylabel('Meidicamento [mg]')\n",
    "plt.show()"
   ]
  },
  {
   "cell_type": "markdown",
   "metadata": {},
   "source": [
    "### Rectas"
   ]
  },
  {
   "cell_type": "code",
   "execution_count": null,
   "metadata": {},
   "outputs": [],
   "source": [
    "def f2016(x):                               #Define la función uno\n",
    "    return 5*x+60\n",
    "\n",
    "def f2020(x):                               #Define la función dos\n",
    "    return 10*x-90\n",
    "\n",
    "x1=np.linspace(0,365)                       #Define el rango en que se graficará\n",
    "\n",
    "plt.figure(2)                                #Define el entorno del gráfico\n",
    "plt.grid()                                  #Muestra la malla en el gráfico\n",
    "plt.plot(x1,f2016(x1),label=r'$f(x)=5x+60$')     #Plotea la función uno\n",
    "plt.plot(x1,f2020(x1),label=r'$f(x)=10x-90$')    #Plotea la función dos\n",
    "plt.legend(loc=0)                           #Ubica la legenda, loc=0 elige el mejor espacio\n",
    "plt.xlabel('Días')                          #Etiqueta eje x\n",
    "plt.ylabel('Mascarillas')                   #Etiqueta eje y\n",
    "plt.xlim(0,365)                             #Define el limite que se mostrará en eje x\n",
    "plt.title('Uso de mascarillas 2016 vs 2020')#Define el titulo del gráfico\n",
    "plt.axhline(y = 0, color = 'black', linestyle = '-')\n",
    "plt.savefig('mascarillas.png')              #Guarda la imagen"
   ]
  },
  {
   "cell_type": "markdown",
   "metadata": {},
   "source": [
    "### Problema 58, pagina 226"
   ]
  },
  {
   "cell_type": "code",
   "execution_count": null,
   "metadata": {},
   "outputs": [],
   "source": [
    "def flecha(x):\n",
    "    return -(103/20000)*x**2 + x+6\n",
    "x2=np.linspace(0,365)\n",
    "plt.figure(3)\n",
    "plt.grid()\n",
    "plt.plot(x1,flecha(x2),'--',label=r'flecha')\n",
    "plt.xticks(np.arange(0, 205, 20))\n",
    "plt.legend(loc=0)\n",
    "plt.xlim(0,205)\n",
    "plt.ylim(0,60)"
   ]
  },
  {
   "cell_type": "markdown",
   "metadata": {},
   "source": [
    "### Asíntotas"
   ]
  },
  {
   "cell_type": "code",
   "execution_count": null,
   "metadata": {},
   "outputs": [],
   "source": [
    "def asinvert(x):\n",
    "    return (x**2 +2)/(x-2)\n",
    "\n",
    "lim=2.5\n",
    "limy=100\n",
    "x3=np.linspace(-lim,lim+2,150 )\n",
    "plt.figure(4,figsize=(16,8))\n",
    "plt.grid()\n",
    "plt.plot(x3,asinvert(x3),'-',label=r'f(x)')\n",
    "plt.axhline(y = 0, color = 'black', linestyle = '-')\n",
    "plt.vlines(x=0, ymin=-limy, ymax=limy, colors='k', linestyles='solid')\n",
    "plt.vlines(x=2, ymin=-limy, ymax=limy, colors='c', linestyles='--',label='Asíntota')\n",
    "plt.title(r'$f(x)=\\dfrac{x^{2}+2}{x-2}$')\n",
    "plt.xlim(-lim,lim+2)\n",
    "plt.ylim(-limy,limy)\n",
    "plt.xlabel('x')\n",
    "plt.ylabel('y')\n",
    "plt.legend(loc=0)\n",
    "plt.savefig('asintver.png')"
   ]
  },
  {
   "cell_type": "code",
   "execution_count": null,
   "metadata": {},
   "outputs": [],
   "source": [
    "def asinh(x):\n",
    "    return (8*x)/(x**2 -2*x+1)\n",
    "\n",
    "lim=12\n",
    "limy=20\n",
    "x3=np.linspace(-lim,lim+2,300 )\n",
    "plt.figure(5,figsize=(16,8))\n",
    "plt.grid()\n",
    "plt.plot(x3,asinh(x3),'-',label=r'f(x)')\n",
    "plt.axhline(y = 0, color = 'c',label='Asíntota')\n",
    "plt.vlines(x=0, ymin=-limy, ymax=100, colors='k', linestyles='solid')\n",
    "plt.title(r'$f(x)=\\dfrac{8x}{x^{2}-2x+1}$')\n",
    "plt.xlim(-lim,lim+2)\n",
    "plt.ylim(-10,100)\n",
    "plt.xlabel('x')\n",
    "plt.ylabel('y')\n",
    "plt.legend(loc=0)\n",
    "plt.savefig('asinth.png')"
   ]
  },
  {
   "cell_type": "markdown",
   "metadata": {},
   "source": [
    "### Función exponecial"
   ]
  },
  {
   "cell_type": "code",
   "execution_count": null,
   "metadata": {},
   "outputs": [],
   "source": [
    "for i in range(2,5):\n",
    "    def bas0(x):\n",
    "        return i**x\n",
    "    x4= np.linspace(-2,8,1000)\n",
    "    plt.figure(6,figsize=(16,8))\n",
    "    plt.grid()\n",
    "    plt.plot(x4,bas0(x4),'-',label=r'$f(x)='+str(i)+'^{x}$')\n",
    "    plt.vlines(x=0, ymin=-limy, ymax=2100, colors='k', linestyles='solid')\n",
    "    plt.xlabel('x')\n",
    "    plt.ylabel('y')\n",
    "    plt.legend(loc=0)\n",
    "    plt.xlim(-2,8)\n",
    "    plt.ylim(0,2000)\n",
    "    plt.title('Caso $b>1$')\n",
    "    plt.savefig('expb0.png')"
   ]
  },
  {
   "cell_type": "code",
   "execution_count": null,
   "metadata": {},
   "outputs": [],
   "source": [
    "for i in range(2,5):\n",
    "    def bas0(x):\n",
    "        return (1/i)**x\n",
    "    x4= np.linspace(-4,8,1000)\n",
    "    plt.figure(7,figsize=(16,8))\n",
    "    plt.grid()\n",
    "    plt.plot(x4,bas0(x4),'-',label=r'$f(x)=1/'+str(i)+'^{x}$')\n",
    "    plt.xlabel('x')\n",
    "    plt.ylabel('y')\n",
    "    plt.legend(loc=0)\n",
    "    plt.xlim(-4,4)\n",
    "    plt.ylim(0,50)\n",
    "    plt.title('Caso $0<b<1$')\n",
    "    plt.vlines(x=0, ymin=-limy, ymax=50, colors='k', linestyles='solid')\n",
    "    plt.savefig('expb1.png')"
   ]
  },
  {
   "cell_type": "markdown",
   "metadata": {},
   "source": [
    "### Función logarítmica "
   ]
  },
  {
   "cell_type": "code",
   "execution_count": null,
   "metadata": {},
   "outputs": [],
   "source": [
    "mark=['-','--','*']\n",
    "color=['r','r','r']\n",
    "for i in range(2,5):\n",
    "    def bas0(x):\n",
    "        return i**x\n",
    "    def loga(x):\n",
    "        return np.emath.logn(i,x)   #i es la base \n",
    "\n",
    "    x4= np.linspace(-4,8,1000)\n",
    "    x5 =np.linspace(0,8,1000)\n",
    "    plt.figure(8,figsize=(16,8))\n",
    "    plt.grid()\n",
    "    plt.plot(x4,bas0(x4),label=r'$f(x)='+str(i)+'^{x}$')\n",
    "    plt.plot(x5,loga(x5),'--',label=r'$f(x)=log_{'+str(i)+'}(x)$')\n",
    "    plt.xlabel('x')\n",
    "    plt.ylabel('y')\n",
    "    plt.legend(loc=0)\n",
    "    plt.xlim(-2,8)\n",
    "    plt.ylim(-8,8)\n",
    "    plt.title('Caso $b>1$')\n",
    "    plt.vlines(x=0, ymin=-limy, ymax=limy, colors='k', linestyles='solid')\n",
    "    plt.axhline(y = 0, color = 'black', linestyle = '-')\n",
    "    plt.savefig('logb0.png')"
   ]
  },
  {
   "cell_type": "code",
   "execution_count": null,
   "metadata": {},
   "outputs": [],
   "source": [
    "for i in range(2,5):\n",
    "    def bas0(x):\n",
    "        return (1/i)**x\n",
    "    \n",
    "    def loga(x):\n",
    "        return np.emath.logn(1/i,x)   #i es la base \n",
    "    \n",
    "    x4= np.linspace(-4,10,1000)\n",
    "    x5 =np.linspace(0,8,1000)\n",
    "    plt.figure(9,figsize=(16,8))\n",
    "    plt.grid()\n",
    "    plt.plot(x4,bas0(x4),'-',label=r'$f(x)=1/'+str(i)+'^{x}$')\n",
    "    plt.plot(x5,loga(x5),'--',label=r'$f(x)=log_{1/'+str(i)+'}(x)$')\n",
    "    plt.xlabel('x')\n",
    "    plt.ylabel('y')\n",
    "    plt.legend(loc=0)\n",
    "    plt.xlim(-4,4)\n",
    "    plt.ylim(-4,10)\n",
    "    plt.title('Caso $0<b<1$')\n",
    "    plt.vlines(x=0, ymin=-limy, ymax=50, colors='k', linestyles='solid')\n",
    "    plt.axhline(y = 0, color = 'black', linestyle = '-')\n",
    "    plt.savefig('logb1.png')"
   ]
  },
  {
   "cell_type": "markdown",
   "metadata": {},
   "source": [
    "### Extremos"
   ]
  },
  {
   "cell_type": "code",
   "execution_count": null,
   "metadata": {},
   "outputs": [],
   "source": [
    "def fn1(x):\n",
    "    return x**3-(3/2)*x**2\n",
    "################################\n",
    "lim=2\n",
    "limy=20\n",
    "############ Puntos ############\n",
    "x0 = [0] #1\n",
    "y0 = [0] #1\n",
    "x1 = [1] #2\n",
    "y1 = [-1/2] #2\n",
    "################################\n",
    "x6=np.linspace(-lim,lim,300 )\n",
    "plt.figure(10,figsize=(16,8))\n",
    "plt.grid()\n",
    "plt.plot(x6,fn1(x6),'-',label=r'f(x)= $x^{3}-\\dfrac{3x^{2}}{2}$')\n",
    "plt.plot(x0, y0, marker=\"o\", markersize=10, markeredgecolor=\"red\", markerfacecolor=\"green\")\n",
    "plt.text(0.05, -0.2, '(0,0)', size=15, color='k')\n",
    "plt.plot(x1, y1, marker=\"o\", markersize=10, markeredgecolor=\"red\", markerfacecolor=\"green\")\n",
    "plt.text(0.95, -0.65, '(1,-1/2)', size=15, color='k')\n",
    "plt.axhline(y = 0, color = 'k')\n",
    "plt.vlines(x=0, ymin=-limy, ymax=100, colors='k', linestyles='solid')\n",
    "plt.xlim(-1,lim)\n",
    "plt.ylim(-1,2)\n",
    "plt.xlabel('x')\n",
    "plt.ylabel('y')\n",
    "plt.legend(loc=0)\n",
    "plt.savefig('ext0.png')"
   ]
  },
  {
   "cell_type": "code",
   "execution_count": 6,
   "metadata": {},
   "outputs": [
    {
     "data": {
      "image/png": "[encoded data removed]",
      "text/plain": [
       "<Figure size 1152x576 with 1 Axes>"
      ]
     },
     "metadata": {
      "needs_background": "light"
     },
     "output_type": "display_data"
    }
   ],
   "source": [
    "def fn2(x):\n",
    "    return (x**2 +1)/(x**2-4)\n",
    "\n",
    "lim=6\n",
    "limy=20\n",
    "\n",
    "x7=np.linspace(-lim,lim,300 )\n",
    "plt.figure(11,figsize=(16,8))\n",
    "plt.grid()\n",
    "plt.plot(x7,fn2(x7),'-',label=r'f(x)= $\\dfrac{x^{2}+1}{x^{2}-4}$')\n",
    "plt.axhline(y = 0, color = 'k')\n",
    "plt.vlines(x=0, ymin=-limy, ymax=100, colors='k', linestyles='solid')\n",
    "plt.xlim(-lim,lim)\n",
    "plt.ylim(-limy,limy)\n",
    "plt.xlabel('x')\n",
    "plt.ylabel('y')\n",
    "plt.legend(loc=0)\n",
    "plt.savefig('ext1.png')"
   ]
  },
  {
   "cell_type": "code",
   "execution_count": null,
   "metadata": {},
   "outputs": [],
   "source": [
    "def fn3(x):\n",
    "    return -3*x**5 + 5*x**3\n",
    "\n",
    "lim=6\n",
    "limy=20\n",
    "\n",
    "x8=np.linspace(-lim,lim,300 )\n",
    "plt.figure(12,figsize=(16,8))\n",
    "plt.grid()\n",
    "plt.plot(x7,fn3(x8),'-',label=r'f(x)= $-3x^{5}+5x^{3}$')\n",
    "plt.axhline(y = 0, color = 'k')\n",
    "plt.vlines(x=0, ymin=-limy, ymax=100, colors='k', linestyles='solid')\n",
    "plt.xlim(-lim,lim)\n",
    "plt.ylim(-limy,limy)\n",
    "plt.xlabel('x')\n",
    "plt.ylabel('y')\n",
    "plt.legend(loc=0)\n",
    "plt.savefig('ext2.png')"
   ]
  }
 ],
 "metadata": {
  "kernelspec": {
   "display_name": "Python 3",
   "language": "python",
   "name": "python3"
  },
  "language_info": {
   "codemirror_mode": {
    "name": "ipython",
    "version": 3
   },
   "file_extension": ".py",
   "mimetype": "text/x-python",
   "name": "python",
   "nbconvert_exporter": "python",
   "pygments_lexer": "ipython3",
   "version": "3.7.4"
  }
 },
 "nbformat": 4,
 "nbformat_minor": 5
}
