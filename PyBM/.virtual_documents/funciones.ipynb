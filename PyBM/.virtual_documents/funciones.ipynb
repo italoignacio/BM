%matplotlib inline
from matplotlib.pyplot import *
from numpy import *


x1=linspace(0,1000,1000)
y1= (0.5)**x1                                  #Primera funcion
y2=exp(x1/2.0)/160.0                           #segunda funcion
y3=1.0-e**(-x1/2.0)                            #tercera funcion
y4=(4.1)*(e**(-1.0)-e**(-2.0*x1))              #cuarta funcion
y5=(x1/5.0)**(5.0)/(1.0+(x1/5.0)**(5.0))       #Quinta funcion
y6=1.0/(1.0+e**(-(x1-5.0)))                    #sexta funcion
y7= log10(x1)

funciones= [y1,y2,y3,y4,y5,y6,y7]
titulo=['$0.5^{x}$','$e^{x/2}/160$','$1-e^{-x/2}$','$4.1(e^{-x}-e^{-2x})$','$(x/5)^{5}/1+(x/5)^{5}$','$1/(1+e^{-(x-5)})$','$log_{10}(x)$']
colores=['r','b','g','y','m','r','c']


for i in range(0,7):
    figure, ax = subplots(2, 2,figsize=(9,9))
    ax[0,0].plot(x1, funciones[i],colores[i])
    ax[0,1].semilogx(x1, funciones[i],colores[i])
    ax[1,0].semilogy(x1, funciones[i],colores[i])
    ax[1,1].loglog(x1, funciones[i],colores[i])

    ax[0,0].set_title(titulo[i])
    ax[0,1].set_title(titulo[i])
    ax[1,0].set_title(titulo[i])
    ax[1,1].set_title(titulo[i])

    ax[0,0].grid()
    ax[0,1].grid()
    ax[1,0].grid()
    ax[1,1].grid()


x1=linspace(0,100,1000)
y1= (0.5)**x1                                  #Primera funcion
y2=exp(x1/2.0)/160.0                           #segunda funcion
y3=1.0-e**(-x1/2.0)                            #tercera funcion                   
y7= log10(x1)
y8=x1**2

funciones= [y1,y2,y7,y8]
titulo=['$0.5^{x}$','$e^{x/2}/160$','$log_{10}(x)$','$x^{2}$']
colores=['r','b','c','g']

for i in range(0,4):
    figure, ax = subplots(2, 2,figsize=(9,9))
    ax[0,0].plot(x1, funciones[i],colores[i],label=titulo[i])
    ax[0,1].semilogx(x1, funciones[i],colores[i],label=titulo[i])
    ax[1,0].semilogy(x1, funciones[i],colores[i],label=titulo[i])
    ax[1,1].loglog(x1, funciones[i],colores[i],label=titulo[i])

    ax[0,0].set_title('Escala lineal de: '+titulo[i])
    ax[0,1].set_title('Escala logarítmica en $x$ de: '+titulo[i])
    ax[1,0].set_title('Escala logarítmica en $y$ de: '+titulo[i])
    ax[1,1].set_title('Escala logarítmica de: '+titulo[i])

    ax[0,0].grid()
    ax[0,1].grid()
    ax[1,0].grid()
    ax[1,1].grid()
    
    ax[0,0].legend(loc=0)
    ax[0,1].legend(loc=0)
    ax[1,0].legend(loc=0)
    ax[1,1].legend(loc=0)
    
    savefig('Func'+str(i)+'.png')



